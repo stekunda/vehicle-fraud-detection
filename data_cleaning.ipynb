{
 "cells": [
  {
   "cell_type": "markdown",
   "metadata": {},
   "source": [
    "## Exploratory Data Analysis (EDA)"
   ]
  },
  {
   "cell_type": "code",
   "execution_count": null,
   "metadata": {},
   "outputs": [],
   "source": [
    "import pandas as pd\n",
    "import numpy as np\n",
    "import re\n",
    "import matplotlib.pyplot as plt\n",
    "import seaborn as sns\n"
   ]
  },
  {
   "cell_type": "code",
   "execution_count": null,
   "metadata": {},
   "outputs": [],
   "source": [
    "df = pd.read_csv(\"data/fraud_oracle.csv\")"
   ]
  },
  {
   "cell_type": "code",
   "execution_count": null,
   "metadata": {},
   "outputs": [],
   "source": [
    "df.head()"
   ]
  },
  {
   "cell_type": "code",
   "execution_count": null,
   "metadata": {},
   "outputs": [],
   "source": [
    "df.describe()"
   ]
  },
  {
   "cell_type": "code",
   "execution_count": null,
   "metadata": {},
   "outputs": [],
   "source": [
    "df.info()"
   ]
  },
  {
   "cell_type": "code",
   "execution_count": null,
   "metadata": {},
   "outputs": [],
   "source": [
    "# Gets the unique values for each column\n",
    "for column in df:\n",
    "    print(column,\":\\n\",df[column].unique(),'\\n')"
   ]
  },
  {
   "cell_type": "code",
   "execution_count": null,
   "metadata": {},
   "outputs": [],
   "source": [
    "df['PolicyNumber'].unique()\n",
    "df['RepNumber'].unique()"
   ]
  },
  {
   "cell_type": "code",
   "execution_count": null,
   "metadata": {},
   "outputs": [],
   "source": [
    "# This data is irelevant for training the model and may lead to overfitting\n",
    "df = df.drop(columns=\"PolicyNumber\")\n",
    "df = df.drop(columns=\"RepNumber\")"
   ]
  },
  {
   "cell_type": "code",
   "execution_count": null,
   "metadata": {},
   "outputs": [],
   "source": [
    "# Getting rid of non-logical values\n",
    "df[['DayOfWeekClaimed', 'MonthClaimed']] = df[['DayOfWeekClaimed', 'MonthClaimed']].replace(0, np.nan)\n",
    "df[['Days_Policy_Accident','Days_Policy_Claim','PastNumberOfClaims','NumberOfSuppliments']] = df[['Days_Policy_Accident','Days_Policy_Claim','PastNumberOfClaims','NumberOfSuppliments']].replace('none', '0')\n",
    "df['AgeOfVehicle'] = df['AgeOfVehicle'].replace('new', '0')\n",
    "df['AddressChange_Claim'] = df['AddressChange_Claim'].replace('no change', '0')"
   ]
  },
  {
   "cell_type": "code",
   "execution_count": null,
   "metadata": {},
   "outputs": [],
   "source": [
    "# These columns use strings values to represent numerical values which don't help with model training\n",
    "# These values must be in numerical form in order to be used in the model\n",
    "pattern = r'(\\d+)'\n",
    "columns = ['NumberOfCars','NumberOfSuppliments','AgeOfPolicyHolder','AgeOfVehicle','PastNumberOfClaims', 'Days_Policy_Claim', 'Days_Policy_Accident', 'VehiclePrice']\n",
    "\n",
    "for column in columns:\n",
    "    # Convert the column to string type\n",
    "    df[column] = df[column].astype(str)\n",
    "    \n",
    "    # Use regex to extract the first number from each value\n",
    "    df[column] = df[column].str.extract(pattern, expand=False)\n",
    "\n",
    "    # Replace non-numeric values with NaN\n",
    "    df[column] = pd.to_numeric(df[column], errors='coerce')\n",
    "\n",
    "    # Optionally, fill NaN values with a default value\n",
    "    df[column].fillna(0, inplace=True)\n",
    "\n",
    "    "
   ]
  },
  {
   "cell_type": "code",
   "execution_count": null,
   "metadata": {},
   "outputs": [],
   "source": [
    "for column in df:\n",
    "    print(column,\":\\n\",df[column].unique(),'\\n')"
   ]
  },
  {
   "cell_type": "code",
   "execution_count": null,
   "metadata": {},
   "outputs": [],
   "source": [
    "fraud_counts = df['FraudFound_P'].value_counts()\n",
    "print(fraud_counts)"
   ]
  },
  {
   "cell_type": "code",
   "execution_count": null,
   "metadata": {},
   "outputs": [],
   "source": [
    "df['Age'].unique()"
   ]
  },
  {
   "cell_type": "code",
   "execution_count": null,
   "metadata": {},
   "outputs": [],
   "source": [
    "features = [i  for i in df.columns if df[i].dtype==object and i != 'FraudFound_P']\n",
    "\n",
    "# Calculate the number of rows and columns for the grid\n",
    "num_rows = 8\n",
    "num_cols = 3\n",
    "\n",
    "# Create subplots with the specified layout\n",
    "fig, axes = plt.subplots(num_rows, num_cols, figsize=(15, 20))\n",
    "plt.subplots_adjust(wspace=0.4, hspace=0.5)\n",
    "\n",
    "# Loop through features and create countplots in the subplots\n",
    "for i, feature in enumerate(features):\n",
    "    row = i // num_cols\n",
    "    col = i % num_cols\n",
    "    ax = axes[row, col]\n",
    "    \n",
    "    sns.countplot(x=feature, data=df, ax=ax,hue='FraudFound_P')\n",
    "    ax.set_title(f'Countplot of {feature}')\n",
    "    ax.set_xlabel('')\n",
    "    ax.set_ylabel('Count')\n",
    "    ax.tick_params(axis='x', rotation=45)\n",
    "    \n",
    "# Hide any empty subplots\n",
    "for i in range(len(features), num_rows * num_cols):\n",
    "    row = i // num_cols\n",
    "    col = i % num_cols\n",
    "    fig.delaxes(axes[row, col])\n",
    "\n",
    "plt.tight_layout()\n",
    "plt.show()"
   ]
  },
  {
   "cell_type": "code",
   "execution_count": null,
   "metadata": {},
   "outputs": [],
   "source": [
    "for i in features:\n",
    "    print(round(df[i].value_counts()/len(df)*100,2))\n",
    "    print(\"=\"*50)"
   ]
  },
  {
   "cell_type": "markdown",
   "metadata": {},
   "source": [
    "### Removing Irrelevant Features based on Frequency"
   ]
  },
  {
   "cell_type": "code",
   "execution_count": null,
   "metadata": {},
   "outputs": [],
   "source": [
    "df = df.copy(deep=True)\n",
    "for feature in features:\n",
    "    value_percent = round(df[feature].value_counts()/len(df)*100,2)\n",
    "    values_to_remove = value_percent[value_percent <=8].index\n",
    "    df = df[~df[feature].isin(values_to_remove)]\n",
    "    \n",
    "for feature in features:\n",
    "    unique_classes = df[feature].nunique()\n",
    "    if unique_classes <= 1:\n",
    "        df.drop(columns=[feature], inplace=True)"
   ]
  },
  {
   "cell_type": "code",
   "execution_count": null,
   "metadata": {},
   "outputs": [],
   "source": [
    "features = [i  for i in df.columns if df[i].dtype==object and i != 'FraudFound_P']\n",
    "num_rows = 8\n",
    "num_cols = 3\n",
    "\n",
    "# Create subplots with the specified layout\n",
    "fig, axes = plt.subplots(num_rows, num_cols, figsize=(15, 20))\n",
    "plt.subplots_adjust(wspace=0.4, hspace=0.5)\n",
    "\n",
    "# Loop through features and create countplots in the subplots\n",
    "for i, feature in enumerate(features):\n",
    "    row = i // num_cols\n",
    "    col = i % num_cols\n",
    "    ax = axes[row, col]\n",
    "    \n",
    "    sns.countplot(x=feature, data=df, ax=ax,hue='FraudFound_P')\n",
    "    ax.set_title(f'Countplot of {feature}')\n",
    "    ax.set_xlabel('')\n",
    "    ax.set_ylabel('Count')\n",
    "    ax.tick_params(axis='x', rotation=45)\n",
    "    \n",
    "# Hide any empty subplots\n",
    "for i in range(len(features), num_rows * num_cols):\n",
    "    row = i // num_cols\n",
    "    col = i % num_cols\n",
    "    fig.delaxes(axes[row, col])\n",
    "\n",
    "plt.tight_layout()\n",
    "plt.show()"
   ]
  }
 ],
 "metadata": {
  "kernelspec": {
   "display_name": "DA515",
   "language": "python",
   "name": "python3"
  },
  "language_info": {
   "codemirror_mode": {
    "name": "ipython",
    "version": 3
   },
   "file_extension": ".py",
   "mimetype": "text/x-python",
   "name": "python",
   "nbconvert_exporter": "python",
   "pygments_lexer": "ipython3",
   "version": "3.8.17"
  }
 },
 "nbformat": 4,
 "nbformat_minor": 2
}
